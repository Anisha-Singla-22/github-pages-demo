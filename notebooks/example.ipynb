{
  "cells": [
    {
      "cell_type": "markdown",
      "id": "91188575-ea53-4829-a56a-303a0b29b636",
      "metadata": {
        "id": "91188575-ea53-4829-a56a-303a0b29b636"
      },
      "source": [
        "## PROBLEM STATEMENT\n",
        "\n",
        "<p> A bank has various information of around 10000 customers which also indetifies if the bank lost the customer or not. Our task is to build a ML model such that we can predict if a customer is going to churn or not.</p>\n",
        "\n",
        "<div><h4 style=\"font-family:verdana;\">Columns:</h4>\n",
        "\n",
        "<ol>\n",
        "    <li><code style=\"font-family:verdana;\">customer_id</code> - Unique ID for a particular customer.</li>\n",
        "    <li><code style=\"font-family:verdana;\">credit_score</code> - Score which determines the creditworthiness of a customer.</li>\n",
        "    <li><code style=\"font-family:verdana;\">country</code> - Country of the customer.</li>\n",
        "    <li><code style=\"font-family:verdana;\">gender</code> - Sex of customer.</li>\n",
        "    <li><code style=\"font-family:verdana;\">age</code> - Age of customer.</li>\n",
        "    <li><code style=\"font-family:verdana;\">tenure</code> - Number of years the customer has Bank Account.</li>\n",
        "    <li><code style=\"font-family:verdana;\">balance</code> - Amount present in customer's bank account.</li>\n",
        "    <li><code style=\"font-family:verdana;\">products_number</code> - Number of Products from that Bank.</li>\n",
        "    <li><code style=\"font-family:verdana;\">credit_card</code> - If the customer owns a credit card.</li>\n",
        "    <li><code style=\"font-family:verdana;\">active_member</code> - Whether the customer is an active member or not.</li>\n",
        "    <li><code style=\"font-family:verdana;\">estimated_salary</code> - Income of the Customer.</li>\n",
        "    <li><code style=\"font-family:verdana;\">churn</code> - Churn (Loss of existing customers) of the Bank. 1 if the client has left the bank during some period or 0 if he/she has not.</li>\n",
        "</ol>\n",
        "</div>"
      ]
    },
    {
      "cell_type": "markdown",
      "id": "6c116106-627e-4812-8191-b71b4ddc5c70",
      "metadata": {
        "id": "6c116106-627e-4812-8191-b71b4ddc5c70"
      },
      "source": [
        "## IMPORT REQUIRED LIBRARIES"
      ]
    },
    {
      "cell_type": "code",
      "execution_count": null,
      "id": "c09698f6-f509-4f66-8e8f-6d75129c7bad",
      "metadata": {
        "id": "c09698f6-f509-4f66-8e8f-6d75129c7bad"
      },
      "outputs": [],
      "source": [
        "%matplotlib inline\n",
        "import pandas as pd\n",
        "import numpy as np\n",
        "import matplotlib.pyplot as plt\n",
        "import plotly.express as px\n",
        "import seaborn as sns\n",
        "from sklearn.feature_selection import mutual_info_classif\n",
        "\n"
      ]
    },
    {
      "cell_type": "markdown",
      "id": "8a03c59e-d306-41d5-b16c-6338c399d1ce",
      "metadata": {
        "id": "8a03c59e-d306-41d5-b16c-6338c399d1ce"
      },
      "source": [
        "## READ DATASET"
      ]
    },
    {
      "cell_type": "code",
      "execution_count": null,
      "id": "d7b80559-c2d0-40da-bb26-9c3fb718d188",
      "metadata": {
        "id": "d7b80559-c2d0-40da-bb26-9c3fb718d188",
        "outputId": "2f5a05fd-4eb9-48ae-8262-ae923963a945"
      },
      "outputs": [
        {
          "data": {
            "text/html": [
              "<div>\n",
              "<style scoped>\n",
              "    .dataframe tbody tr th:only-of-type {\n",
              "        vertical-align: middle;\n",
              "    }\n",
              "\n",
              "    .dataframe tbody tr th {\n",
              "        vertical-align: top;\n",
              "    }\n",
              "\n",
              "    .dataframe thead th {\n",
              "        text-align: right;\n",
              "    }\n",
              "</style>\n",
              "<table border=\"1\" class=\"dataframe\">\n",
              "  <thead>\n",
              "    <tr style=\"text-align: right;\">\n",
              "      <th></th>\n",
              "      <th>customer_id</th>\n",
              "      <th>credit_score</th>\n",
              "      <th>country</th>\n",
              "      <th>gender</th>\n",
              "      <th>age</th>\n",
              "      <th>tenure</th>\n",
              "      <th>balance</th>\n",
              "      <th>products_number</th>\n",
              "      <th>credit_card</th>\n",
              "      <th>active_member</th>\n",
              "      <th>estimated_salary</th>\n",
              "      <th>churn</th>\n",
              "    </tr>\n",
              "  </thead>\n",
              "  <tbody>\n",
              "    <tr>\n",
              "      <th>0</th>\n",
              "      <td>15634602</td>\n",
              "      <td>619</td>\n",
              "      <td>France</td>\n",
              "      <td>Female</td>\n",
              "      <td>42</td>\n",
              "      <td>2</td>\n",
              "      <td>0.00</td>\n",
              "      <td>1</td>\n",
              "      <td>1</td>\n",
              "      <td>1</td>\n",
              "      <td>101348.88</td>\n",
              "      <td>1</td>\n",
              "    </tr>\n",
              "    <tr>\n",
              "      <th>1</th>\n",
              "      <td>15647311</td>\n",
              "      <td>608</td>\n",
              "      <td>Spain</td>\n",
              "      <td>Female</td>\n",
              "      <td>41</td>\n",
              "      <td>1</td>\n",
              "      <td>83807.86</td>\n",
              "      <td>1</td>\n",
              "      <td>0</td>\n",
              "      <td>1</td>\n",
              "      <td>112542.58</td>\n",
              "      <td>0</td>\n",
              "    </tr>\n",
              "    <tr>\n",
              "      <th>2</th>\n",
              "      <td>15619304</td>\n",
              "      <td>502</td>\n",
              "      <td>France</td>\n",
              "      <td>Female</td>\n",
              "      <td>42</td>\n",
              "      <td>8</td>\n",
              "      <td>159660.80</td>\n",
              "      <td>3</td>\n",
              "      <td>1</td>\n",
              "      <td>0</td>\n",
              "      <td>113931.57</td>\n",
              "      <td>1</td>\n",
              "    </tr>\n",
              "    <tr>\n",
              "      <th>3</th>\n",
              "      <td>15701354</td>\n",
              "      <td>699</td>\n",
              "      <td>France</td>\n",
              "      <td>Female</td>\n",
              "      <td>39</td>\n",
              "      <td>1</td>\n",
              "      <td>0.00</td>\n",
              "      <td>2</td>\n",
              "      <td>0</td>\n",
              "      <td>0</td>\n",
              "      <td>93826.63</td>\n",
              "      <td>0</td>\n",
              "    </tr>\n",
              "    <tr>\n",
              "      <th>4</th>\n",
              "      <td>15737888</td>\n",
              "      <td>850</td>\n",
              "      <td>Spain</td>\n",
              "      <td>Female</td>\n",
              "      <td>43</td>\n",
              "      <td>2</td>\n",
              "      <td>125510.82</td>\n",
              "      <td>1</td>\n",
              "      <td>1</td>\n",
              "      <td>1</td>\n",
              "      <td>79084.10</td>\n",
              "      <td>0</td>\n",
              "    </tr>\n",
              "  </tbody>\n",
              "</table>\n",
              "</div>"
            ],
            "text/plain": [
              "   customer_id  credit_score country  gender  age  tenure    balance  \\\n",
              "0     15634602           619  France  Female   42       2       0.00   \n",
              "1     15647311           608   Spain  Female   41       1   83807.86   \n",
              "2     15619304           502  France  Female   42       8  159660.80   \n",
              "3     15701354           699  France  Female   39       1       0.00   \n",
              "4     15737888           850   Spain  Female   43       2  125510.82   \n",
              "\n",
              "   products_number  credit_card  active_member  estimated_salary  churn  \n",
              "0                1            1              1         101348.88      1  \n",
              "1                1            0              1         112542.58      0  \n",
              "2                3            1              0         113931.57      1  \n",
              "3                2            0              0          93826.63      0  \n",
              "4                1            1              1          79084.10      0  "
            ]
          },
          "execution_count": 2,
          "metadata": {},
          "output_type": "execute_result"
        }
      ],
      "source": [
        "df=pd.read_csv(\"Bank Customer Churn Prediction.csv\")\n",
        "df.head()"
      ]
    },
    {
      "cell_type": "markdown",
      "id": "66b3c503-cde2-4e8e-bfc4-0865019f0c44",
      "metadata": {
        "id": "66b3c503-cde2-4e8e-bfc4-0865019f0c44"
      },
      "source": [
        "## PRIMARY ANALYSIS OF THE DATA"
      ]
    },
    {
      "cell_type": "code",
      "execution_count": null,
      "id": "8010bb1a-c688-4e59-97f4-71624b8b731c",
      "metadata": {
        "id": "8010bb1a-c688-4e59-97f4-71624b8b731c",
        "outputId": "c0dd2ffa-db6f-491b-cc36-50fab7cae5ff"
      },
      "outputs": [
        {
          "name": "stdout",
          "output_type": "stream",
          "text": [
            "<class 'pandas.core.frame.DataFrame'>\n",
            "RangeIndex: 10000 entries, 0 to 9999\n",
            "Data columns (total 12 columns):\n",
            " #   Column            Non-Null Count  Dtype  \n",
            "---  ------            --------------  -----  \n",
            " 0   customer_id       10000 non-null  int64  \n",
            " 1   credit_score      10000 non-null  int64  \n",
            " 2   country           10000 non-null  object \n",
            " 3   gender            10000 non-null  object \n",
            " 4   age               10000 non-null  int64  \n",
            " 5   tenure            10000 non-null  int64  \n",
            " 6   balance           10000 non-null  float64\n",
            " 7   products_number   10000 non-null  int64  \n",
            " 8   credit_card       10000 non-null  int64  \n",
            " 9   active_member     10000 non-null  int64  \n",
            " 10  estimated_salary  10000 non-null  float64\n",
            " 11  churn             10000 non-null  int64  \n",
            "dtypes: float64(2), int64(8), object(2)\n",
            "memory usage: 937.6+ KB\n"
          ]
        }
      ],
      "source": [
        "df.info()"
      ]
    },
    {
      "cell_type": "markdown",
      "id": "5f8703ea-7f37-477a-9187-2f5e3b7fbd7d",
      "metadata": {
        "id": "5f8703ea-7f37-477a-9187-2f5e3b7fbd7d"
      },
      "source": [
        "**Note: There are two categorical columns - country & gender. The rest of the columns are numerical.**"
      ]
    },
    {
      "cell_type": "code",
      "execution_count": null,
      "id": "a33749f7-f6fb-4727-9353-51daa22cf54b",
      "metadata": {
        "id": "a33749f7-f6fb-4727-9353-51daa22cf54b",
        "outputId": "eabad4c6-e64e-4a68-dd9d-8bcbcbe206f5"
      },
      "outputs": [
        {
          "data": {
            "text/plain": [
              "customer_id         10000\n",
              "credit_score          460\n",
              "country                 3\n",
              "gender                  2\n",
              "age                    70\n",
              "tenure                 11\n",
              "balance              6382\n",
              "products_number         4\n",
              "credit_card             2\n",
              "active_member           2\n",
              "estimated_salary     9999\n",
              "churn                   2\n",
              "dtype: int64"
            ]
          },
          "execution_count": 4,
          "metadata": {},
          "output_type": "execute_result"
        }
      ],
      "source": [
        "df.nunique()"
      ]
    },
    {
      "cell_type": "code",
      "execution_count": null,
      "id": "7c67b708-c8f2-4492-bdef-64c174066b94",
      "metadata": {
        "id": "7c67b708-c8f2-4492-bdef-64c174066b94",
        "outputId": "991ff40e-9c46-48bb-a67f-aefe1111f9cf"
      },
      "outputs": [
        {
          "data": {
            "text/plain": [
              "customer_id         0\n",
              "credit_score        0\n",
              "country             0\n",
              "gender              0\n",
              "age                 0\n",
              "tenure              0\n",
              "balance             0\n",
              "products_number     0\n",
              "credit_card         0\n",
              "active_member       0\n",
              "estimated_salary    0\n",
              "churn               0\n",
              "dtype: int64"
            ]
          },
          "execution_count": 5,
          "metadata": {},
          "output_type": "execute_result"
        }
      ],
      "source": [
        "# Null Values\n",
        "df.isnull().sum()"
      ]
    },
    {
      "cell_type": "markdown",
      "id": "8c0cc5a3-c755-4b75-a599-08daa1ab37a6",
      "metadata": {
        "id": "8c0cc5a3-c755-4b75-a599-08daa1ab37a6"
      },
      "source": [
        "**Note: We do not have any missing values in the dataset**"
      ]
    },
    {
      "cell_type": "markdown",
      "id": "f55f8ea6-5f3e-4375-8121-30a6ce777600",
      "metadata": {
        "id": "f55f8ea6-5f3e-4375-8121-30a6ce777600"
      },
      "source": [
        "## CONVERT CATEGORICAL COLUMNS TO NUMERICAL "
      ]
    },
    {
      "cell_type": "code",
      "execution_count": null,
      "id": "4227bab7-6fd1-429d-99fa-ec6cee53e2b3",
      "metadata": {
        "id": "4227bab7-6fd1-429d-99fa-ec6cee53e2b3"
      },
      "outputs": [],
      "source": [
        "country_dummies=pd.get_dummies(df['country'])\n",
        "df[\"gender\"]=df[\"gender\"].replace({\"Male\": 1, \"Female\": 0})\n"
      ]
    },
    {
      "cell_type": "code",
      "execution_count": null,
      "id": "462d27df-3a58-49fd-8dd7-d2a096349d5d",
      "metadata": {
        "id": "462d27df-3a58-49fd-8dd7-d2a096349d5d",
        "outputId": "ac51829b-ad87-48d0-a7e5-74b786e93c3b"
      },
      "outputs": [
        {
          "data": {
            "text/html": [
              "<div>\n",
              "<style scoped>\n",
              "    .dataframe tbody tr th:only-of-type {\n",
              "        vertical-align: middle;\n",
              "    }\n",
              "\n",
              "    .dataframe tbody tr th {\n",
              "        vertical-align: top;\n",
              "    }\n",
              "\n",
              "    .dataframe thead th {\n",
              "        text-align: right;\n",
              "    }\n",
              "</style>\n",
              "<table border=\"1\" class=\"dataframe\">\n",
              "  <thead>\n",
              "    <tr style=\"text-align: right;\">\n",
              "      <th></th>\n",
              "      <th>credit_score</th>\n",
              "      <th>gender</th>\n",
              "      <th>age</th>\n",
              "      <th>tenure</th>\n",
              "      <th>balance</th>\n",
              "      <th>products_number</th>\n",
              "      <th>credit_card</th>\n",
              "      <th>active_member</th>\n",
              "      <th>estimated_salary</th>\n",
              "      <th>churn</th>\n",
              "      <th>France</th>\n",
              "      <th>Germany</th>\n",
              "      <th>Spain</th>\n",
              "    </tr>\n",
              "  </thead>\n",
              "  <tbody>\n",
              "    <tr>\n",
              "      <th>0</th>\n",
              "      <td>619</td>\n",
              "      <td>0</td>\n",
              "      <td>42</td>\n",
              "      <td>2</td>\n",
              "      <td>0.00</td>\n",
              "      <td>1</td>\n",
              "      <td>1</td>\n",
              "      <td>1</td>\n",
              "      <td>101348.88</td>\n",
              "      <td>1</td>\n",
              "      <td>1</td>\n",
              "      <td>0</td>\n",
              "      <td>0</td>\n",
              "    </tr>\n",
              "    <tr>\n",
              "      <th>1</th>\n",
              "      <td>608</td>\n",
              "      <td>0</td>\n",
              "      <td>41</td>\n",
              "      <td>1</td>\n",
              "      <td>83807.86</td>\n",
              "      <td>1</td>\n",
              "      <td>0</td>\n",
              "      <td>1</td>\n",
              "      <td>112542.58</td>\n",
              "      <td>0</td>\n",
              "      <td>0</td>\n",
              "      <td>0</td>\n",
              "      <td>1</td>\n",
              "    </tr>\n",
              "    <tr>\n",
              "      <th>2</th>\n",
              "      <td>502</td>\n",
              "      <td>0</td>\n",
              "      <td>42</td>\n",
              "      <td>8</td>\n",
              "      <td>159660.80</td>\n",
              "      <td>3</td>\n",
              "      <td>1</td>\n",
              "      <td>0</td>\n",
              "      <td>113931.57</td>\n",
              "      <td>1</td>\n",
              "      <td>1</td>\n",
              "      <td>0</td>\n",
              "      <td>0</td>\n",
              "    </tr>\n",
              "    <tr>\n",
              "      <th>3</th>\n",
              "      <td>699</td>\n",
              "      <td>0</td>\n",
              "      <td>39</td>\n",
              "      <td>1</td>\n",
              "      <td>0.00</td>\n",
              "      <td>2</td>\n",
              "      <td>0</td>\n",
              "      <td>0</td>\n",
              "      <td>93826.63</td>\n",
              "      <td>0</td>\n",
              "      <td>1</td>\n",
              "      <td>0</td>\n",
              "      <td>0</td>\n",
              "    </tr>\n",
              "    <tr>\n",
              "      <th>4</th>\n",
              "      <td>850</td>\n",
              "      <td>0</td>\n",
              "      <td>43</td>\n",
              "      <td>2</td>\n",
              "      <td>125510.82</td>\n",
              "      <td>1</td>\n",
              "      <td>1</td>\n",
              "      <td>1</td>\n",
              "      <td>79084.10</td>\n",
              "      <td>0</td>\n",
              "      <td>0</td>\n",
              "      <td>0</td>\n",
              "      <td>1</td>\n",
              "    </tr>\n",
              "  </tbody>\n",
              "</table>\n",
              "</div>"
            ],
            "text/plain": [
              "   credit_score  gender  age  tenure    balance  products_number  credit_card  \\\n",
              "0           619       0   42       2       0.00                1            1   \n",
              "1           608       0   41       1   83807.86                1            0   \n",
              "2           502       0   42       8  159660.80                3            1   \n",
              "3           699       0   39       1       0.00                2            0   \n",
              "4           850       0   43       2  125510.82                1            1   \n",
              "\n",
              "   active_member  estimated_salary  churn  France  Germany  Spain  \n",
              "0              1         101348.88      1       1        0      0  \n",
              "1              1         112542.58      0       0        0      1  \n",
              "2              0         113931.57      1       1        0      0  \n",
              "3              0          93826.63      0       1        0      0  \n",
              "4              1          79084.10      0       0        0      1  "
            ]
          },
          "execution_count": 7,
          "metadata": {},
          "output_type": "execute_result"
        }
      ],
      "source": [
        "df_encoded=pd.concat([df,country_dummies],axis=1)\n",
        "df_encoded.drop(['customer_id', 'country'], axis=1,inplace=True)\n",
        "df_encoded.head()"
      ]
    },
    {
      "cell_type": "markdown",
      "id": "7274c282-4bfa-452c-a1fc-02be124c53d1",
      "metadata": {
        "id": "7274c282-4bfa-452c-a1fc-02be124c53d1"
      },
      "source": [
        "## EXPLORE THE RELATIONSHIPS IN THE DATA"
      ]
    },
    {
      "cell_type": "code",
      "execution_count": null,
      "id": "26b054cb-f6f0-4e10-8031-1cd6645679ae",
      "metadata": {
        "id": "26b054cb-f6f0-4e10-8031-1cd6645679ae",
        "outputId": "ef7e8e4f-7809-4f13-b6ef-93dfbe9ce739"
      },
      "outputs": [
        {
          "data": {
            "text/html": [
              "<div>\n",
              "<style scoped>\n",
              "    .dataframe tbody tr th:only-of-type {\n",
              "        vertical-align: middle;\n",
              "    }\n",
              "\n",
              "    .dataframe tbody tr th {\n",
              "        vertical-align: top;\n",
              "    }\n",
              "\n",
              "    .dataframe thead th {\n",
              "        text-align: right;\n",
              "    }\n",
              "</style>\n",
              "<table border=\"1\" class=\"dataframe\">\n",
              "  <thead>\n",
              "    <tr style=\"text-align: right;\">\n",
              "      <th></th>\n",
              "      <th>credit_score</th>\n",
              "      <th>gender</th>\n",
              "      <th>age</th>\n",
              "      <th>tenure</th>\n",
              "      <th>balance</th>\n",
              "      <th>products_number</th>\n",
              "      <th>credit_card</th>\n",
              "      <th>active_member</th>\n",
              "      <th>estimated_salary</th>\n",
              "      <th>churn</th>\n",
              "      <th>France</th>\n",
              "      <th>Germany</th>\n",
              "      <th>Spain</th>\n",
              "    </tr>\n",
              "  </thead>\n",
              "  <tbody>\n",
              "    <tr>\n",
              "      <th>count</th>\n",
              "      <td>10000.000000</td>\n",
              "      <td>10000.000000</td>\n",
              "      <td>10000.000000</td>\n",
              "      <td>10000.000000</td>\n",
              "      <td>10000.000000</td>\n",
              "      <td>10000.000000</td>\n",
              "      <td>10000.00000</td>\n",
              "      <td>10000.000000</td>\n",
              "      <td>10000.000000</td>\n",
              "      <td>10000.000000</td>\n",
              "      <td>10000.000000</td>\n",
              "      <td>10000.000000</td>\n",
              "      <td>10000.000000</td>\n",
              "    </tr>\n",
              "    <tr>\n",
              "      <th>mean</th>\n",
              "      <td>650.528800</td>\n",
              "      <td>0.545700</td>\n",
              "      <td>38.921800</td>\n",
              "      <td>5.012800</td>\n",
              "      <td>76485.889288</td>\n",
              "      <td>1.530200</td>\n",
              "      <td>0.70550</td>\n",
              "      <td>0.515100</td>\n",
              "      <td>100090.239881</td>\n",
              "      <td>0.203700</td>\n",
              "      <td>0.501400</td>\n",
              "      <td>0.250900</td>\n",
              "      <td>0.247700</td>\n",
              "    </tr>\n",
              "    <tr>\n",
              "      <th>std</th>\n",
              "      <td>96.653299</td>\n",
              "      <td>0.497932</td>\n",
              "      <td>10.487806</td>\n",
              "      <td>2.892174</td>\n",
              "      <td>62397.405202</td>\n",
              "      <td>0.581654</td>\n",
              "      <td>0.45584</td>\n",
              "      <td>0.499797</td>\n",
              "      <td>57510.492818</td>\n",
              "      <td>0.402769</td>\n",
              "      <td>0.500023</td>\n",
              "      <td>0.433553</td>\n",
              "      <td>0.431698</td>\n",
              "    </tr>\n",
              "    <tr>\n",
              "      <th>min</th>\n",
              "      <td>350.000000</td>\n",
              "      <td>0.000000</td>\n",
              "      <td>18.000000</td>\n",
              "      <td>0.000000</td>\n",
              "      <td>0.000000</td>\n",
              "      <td>1.000000</td>\n",
              "      <td>0.00000</td>\n",
              "      <td>0.000000</td>\n",
              "      <td>11.580000</td>\n",
              "      <td>0.000000</td>\n",
              "      <td>0.000000</td>\n",
              "      <td>0.000000</td>\n",
              "      <td>0.000000</td>\n",
              "    </tr>\n",
              "    <tr>\n",
              "      <th>25%</th>\n",
              "      <td>584.000000</td>\n",
              "      <td>0.000000</td>\n",
              "      <td>32.000000</td>\n",
              "      <td>3.000000</td>\n",
              "      <td>0.000000</td>\n",
              "      <td>1.000000</td>\n",
              "      <td>0.00000</td>\n",
              "      <td>0.000000</td>\n",
              "      <td>51002.110000</td>\n",
              "      <td>0.000000</td>\n",
              "      <td>0.000000</td>\n",
              "      <td>0.000000</td>\n",
              "      <td>0.000000</td>\n",
              "    </tr>\n",
              "    <tr>\n",
              "      <th>50%</th>\n",
              "      <td>652.000000</td>\n",
              "      <td>1.000000</td>\n",
              "      <td>37.000000</td>\n",
              "      <td>5.000000</td>\n",
              "      <td>97198.540000</td>\n",
              "      <td>1.000000</td>\n",
              "      <td>1.00000</td>\n",
              "      <td>1.000000</td>\n",
              "      <td>100193.915000</td>\n",
              "      <td>0.000000</td>\n",
              "      <td>1.000000</td>\n",
              "      <td>0.000000</td>\n",
              "      <td>0.000000</td>\n",
              "    </tr>\n",
              "    <tr>\n",
              "      <th>75%</th>\n",
              "      <td>718.000000</td>\n",
              "      <td>1.000000</td>\n",
              "      <td>44.000000</td>\n",
              "      <td>7.000000</td>\n",
              "      <td>127644.240000</td>\n",
              "      <td>2.000000</td>\n",
              "      <td>1.00000</td>\n",
              "      <td>1.000000</td>\n",
              "      <td>149388.247500</td>\n",
              "      <td>0.000000</td>\n",
              "      <td>1.000000</td>\n",
              "      <td>1.000000</td>\n",
              "      <td>0.000000</td>\n",
              "    </tr>\n",
              "    <tr>\n",
              "      <th>max</th>\n",
              "      <td>850.000000</td>\n",
              "      <td>1.000000</td>\n",
              "      <td>92.000000</td>\n",
              "      <td>10.000000</td>\n",
              "      <td>250898.090000</td>\n",
              "      <td>4.000000</td>\n",
              "      <td>1.00000</td>\n",
              "      <td>1.000000</td>\n",
              "      <td>199992.480000</td>\n",
              "      <td>1.000000</td>\n",
              "      <td>1.000000</td>\n",
              "      <td>1.000000</td>\n",
              "      <td>1.000000</td>\n",
              "    </tr>\n",
              "  </tbody>\n",
              "</table>\n",
              "</div>"
            ],
            "text/plain": [
              "       credit_score        gender           age        tenure        balance  \\\n",
              "count  10000.000000  10000.000000  10000.000000  10000.000000   10000.000000   \n",
              "mean     650.528800      0.545700     38.921800      5.012800   76485.889288   \n",
              "std       96.653299      0.497932     10.487806      2.892174   62397.405202   \n",
              "min      350.000000      0.000000     18.000000      0.000000       0.000000   \n",
              "25%      584.000000      0.000000     32.000000      3.000000       0.000000   \n",
              "50%      652.000000      1.000000     37.000000      5.000000   97198.540000   \n",
              "75%      718.000000      1.000000     44.000000      7.000000  127644.240000   \n",
              "max      850.000000      1.000000     92.000000     10.000000  250898.090000   \n",
              "\n",
              "       products_number  credit_card  active_member  estimated_salary  \\\n",
              "count     10000.000000  10000.00000   10000.000000      10000.000000   \n",
              "mean          1.530200      0.70550       0.515100     100090.239881   \n",
              "std           0.581654      0.45584       0.499797      57510.492818   \n",
              "min           1.000000      0.00000       0.000000         11.580000   \n",
              "25%           1.000000      0.00000       0.000000      51002.110000   \n",
              "50%           1.000000      1.00000       1.000000     100193.915000   \n",
              "75%           2.000000      1.00000       1.000000     149388.247500   \n",
              "max           4.000000      1.00000       1.000000     199992.480000   \n",
              "\n",
              "              churn        France       Germany         Spain  \n",
              "count  10000.000000  10000.000000  10000.000000  10000.000000  \n",
              "mean       0.203700      0.501400      0.250900      0.247700  \n",
              "std        0.402769      0.500023      0.433553      0.431698  \n",
              "min        0.000000      0.000000      0.000000      0.000000  \n",
              "25%        0.000000      0.000000      0.000000      0.000000  \n",
              "50%        0.000000      1.000000      0.000000      0.000000  \n",
              "75%        0.000000      1.000000      1.000000      0.000000  \n",
              "max        1.000000      1.000000      1.000000      1.000000  "
            ]
          },
          "execution_count": 8,
          "metadata": {},
          "output_type": "execute_result"
        }
      ],
      "source": [
        "df_encoded.describe()"
      ]
    },
    {
      "cell_type": "code",
      "execution_count": null,
      "id": "3c7bff70-5bd4-42d4-972f-f6919e597d88",
      "metadata": {
        "id": "3c7bff70-5bd4-42d4-972f-f6919e597d88",
        "outputId": "42eacc8a-3072-4f50-fb59-ed7f5419c55a"
      },
      "outputs": [
        {
          "data": {
            "text/html": [
              "<div>\n",
              "<style scoped>\n",
              "    .dataframe tbody tr th:only-of-type {\n",
              "        vertical-align: middle;\n",
              "    }\n",
              "\n",
              "    .dataframe tbody tr th {\n",
              "        vertical-align: top;\n",
              "    }\n",
              "\n",
              "    .dataframe thead th {\n",
              "        text-align: right;\n",
              "    }\n",
              "</style>\n",
              "<table border=\"1\" class=\"dataframe\">\n",
              "  <thead>\n",
              "    <tr style=\"text-align: right;\">\n",
              "      <th></th>\n",
              "      <th>credit_score</th>\n",
              "      <th>gender</th>\n",
              "      <th>age</th>\n",
              "      <th>tenure</th>\n",
              "      <th>balance</th>\n",
              "      <th>products_number</th>\n",
              "      <th>credit_card</th>\n",
              "      <th>active_member</th>\n",
              "      <th>estimated_salary</th>\n",
              "      <th>churn</th>\n",
              "      <th>France</th>\n",
              "      <th>Germany</th>\n",
              "      <th>Spain</th>\n",
              "    </tr>\n",
              "  </thead>\n",
              "  <tbody>\n",
              "    <tr>\n",
              "      <th>credit_score</th>\n",
              "      <td>1.000000</td>\n",
              "      <td>-0.002857</td>\n",
              "      <td>-0.003965</td>\n",
              "      <td>0.000842</td>\n",
              "      <td>0.006268</td>\n",
              "      <td>0.012238</td>\n",
              "      <td>-0.005458</td>\n",
              "      <td>0.025651</td>\n",
              "      <td>-0.001384</td>\n",
              "      <td>-0.027094</td>\n",
              "      <td>-0.008928</td>\n",
              "      <td>0.005538</td>\n",
              "      <td>0.004780</td>\n",
              "    </tr>\n",
              "    <tr>\n",
              "      <th>gender</th>\n",
              "      <td>-0.002857</td>\n",
              "      <td>1.000000</td>\n",
              "      <td>-0.027544</td>\n",
              "      <td>0.014733</td>\n",
              "      <td>0.012087</td>\n",
              "      <td>-0.021859</td>\n",
              "      <td>0.005766</td>\n",
              "      <td>0.022544</td>\n",
              "      <td>-0.008112</td>\n",
              "      <td>-0.106512</td>\n",
              "      <td>0.006772</td>\n",
              "      <td>-0.024628</td>\n",
              "      <td>0.016889</td>\n",
              "    </tr>\n",
              "    <tr>\n",
              "      <th>age</th>\n",
              "      <td>-0.003965</td>\n",
              "      <td>-0.027544</td>\n",
              "      <td>1.000000</td>\n",
              "      <td>-0.009997</td>\n",
              "      <td>0.028308</td>\n",
              "      <td>-0.030680</td>\n",
              "      <td>-0.011721</td>\n",
              "      <td>0.085472</td>\n",
              "      <td>-0.007201</td>\n",
              "      <td>0.285323</td>\n",
              "      <td>-0.039208</td>\n",
              "      <td>0.046897</td>\n",
              "      <td>-0.001685</td>\n",
              "    </tr>\n",
              "    <tr>\n",
              "      <th>tenure</th>\n",
              "      <td>0.000842</td>\n",
              "      <td>0.014733</td>\n",
              "      <td>-0.009997</td>\n",
              "      <td>1.000000</td>\n",
              "      <td>-0.012254</td>\n",
              "      <td>0.013444</td>\n",
              "      <td>0.022583</td>\n",
              "      <td>-0.028362</td>\n",
              "      <td>0.007784</td>\n",
              "      <td>-0.014001</td>\n",
              "      <td>-0.002848</td>\n",
              "      <td>-0.000567</td>\n",
              "      <td>0.003868</td>\n",
              "    </tr>\n",
              "    <tr>\n",
              "      <th>balance</th>\n",
              "      <td>0.006268</td>\n",
              "      <td>0.012087</td>\n",
              "      <td>0.028308</td>\n",
              "      <td>-0.012254</td>\n",
              "      <td>1.000000</td>\n",
              "      <td>-0.304180</td>\n",
              "      <td>-0.014858</td>\n",
              "      <td>-0.010084</td>\n",
              "      <td>0.012797</td>\n",
              "      <td>0.118533</td>\n",
              "      <td>-0.231329</td>\n",
              "      <td>0.401110</td>\n",
              "      <td>-0.134892</td>\n",
              "    </tr>\n",
              "    <tr>\n",
              "      <th>products_number</th>\n",
              "      <td>0.012238</td>\n",
              "      <td>-0.021859</td>\n",
              "      <td>-0.030680</td>\n",
              "      <td>0.013444</td>\n",
              "      <td>-0.304180</td>\n",
              "      <td>1.000000</td>\n",
              "      <td>0.003183</td>\n",
              "      <td>0.009612</td>\n",
              "      <td>0.014204</td>\n",
              "      <td>-0.047820</td>\n",
              "      <td>0.001230</td>\n",
              "      <td>-0.010419</td>\n",
              "      <td>0.009039</td>\n",
              "    </tr>\n",
              "    <tr>\n",
              "      <th>credit_card</th>\n",
              "      <td>-0.005458</td>\n",
              "      <td>0.005766</td>\n",
              "      <td>-0.011721</td>\n",
              "      <td>0.022583</td>\n",
              "      <td>-0.014858</td>\n",
              "      <td>0.003183</td>\n",
              "      <td>1.000000</td>\n",
              "      <td>-0.011866</td>\n",
              "      <td>-0.009933</td>\n",
              "      <td>-0.007138</td>\n",
              "      <td>0.002467</td>\n",
              "      <td>0.010577</td>\n",
              "      <td>-0.013480</td>\n",
              "    </tr>\n",
              "    <tr>\n",
              "      <th>active_member</th>\n",
              "      <td>0.025651</td>\n",
              "      <td>0.022544</td>\n",
              "      <td>0.085472</td>\n",
              "      <td>-0.028362</td>\n",
              "      <td>-0.010084</td>\n",
              "      <td>0.009612</td>\n",
              "      <td>-0.011866</td>\n",
              "      <td>1.000000</td>\n",
              "      <td>-0.011421</td>\n",
              "      <td>-0.156128</td>\n",
              "      <td>0.003317</td>\n",
              "      <td>-0.020486</td>\n",
              "      <td>0.016732</td>\n",
              "    </tr>\n",
              "    <tr>\n",
              "      <th>estimated_salary</th>\n",
              "      <td>-0.001384</td>\n",
              "      <td>-0.008112</td>\n",
              "      <td>-0.007201</td>\n",
              "      <td>0.007784</td>\n",
              "      <td>0.012797</td>\n",
              "      <td>0.014204</td>\n",
              "      <td>-0.009933</td>\n",
              "      <td>-0.011421</td>\n",
              "      <td>1.000000</td>\n",
              "      <td>0.012097</td>\n",
              "      <td>-0.003332</td>\n",
              "      <td>0.010297</td>\n",
              "      <td>-0.006482</td>\n",
              "    </tr>\n",
              "    <tr>\n",
              "      <th>churn</th>\n",
              "      <td>-0.027094</td>\n",
              "      <td>-0.106512</td>\n",
              "      <td>0.285323</td>\n",
              "      <td>-0.014001</td>\n",
              "      <td>0.118533</td>\n",
              "      <td>-0.047820</td>\n",
              "      <td>-0.007138</td>\n",
              "      <td>-0.156128</td>\n",
              "      <td>0.012097</td>\n",
              "      <td>1.000000</td>\n",
              "      <td>-0.104955</td>\n",
              "      <td>0.173488</td>\n",
              "      <td>-0.052667</td>\n",
              "    </tr>\n",
              "    <tr>\n",
              "      <th>France</th>\n",
              "      <td>-0.008928</td>\n",
              "      <td>0.006772</td>\n",
              "      <td>-0.039208</td>\n",
              "      <td>-0.002848</td>\n",
              "      <td>-0.231329</td>\n",
              "      <td>0.001230</td>\n",
              "      <td>0.002467</td>\n",
              "      <td>0.003317</td>\n",
              "      <td>-0.003332</td>\n",
              "      <td>-0.104955</td>\n",
              "      <td>1.000000</td>\n",
              "      <td>-0.580359</td>\n",
              "      <td>-0.575418</td>\n",
              "    </tr>\n",
              "    <tr>\n",
              "      <th>Germany</th>\n",
              "      <td>0.005538</td>\n",
              "      <td>-0.024628</td>\n",
              "      <td>0.046897</td>\n",
              "      <td>-0.000567</td>\n",
              "      <td>0.401110</td>\n",
              "      <td>-0.010419</td>\n",
              "      <td>0.010577</td>\n",
              "      <td>-0.020486</td>\n",
              "      <td>0.010297</td>\n",
              "      <td>0.173488</td>\n",
              "      <td>-0.580359</td>\n",
              "      <td>1.000000</td>\n",
              "      <td>-0.332084</td>\n",
              "    </tr>\n",
              "    <tr>\n",
              "      <th>Spain</th>\n",
              "      <td>0.004780</td>\n",
              "      <td>0.016889</td>\n",
              "      <td>-0.001685</td>\n",
              "      <td>0.003868</td>\n",
              "      <td>-0.134892</td>\n",
              "      <td>0.009039</td>\n",
              "      <td>-0.013480</td>\n",
              "      <td>0.016732</td>\n",
              "      <td>-0.006482</td>\n",
              "      <td>-0.052667</td>\n",
              "      <td>-0.575418</td>\n",
              "      <td>-0.332084</td>\n",
              "      <td>1.000000</td>\n",
              "    </tr>\n",
              "  </tbody>\n",
              "</table>\n",
              "</div>"
            ],
            "text/plain": [
              "                  credit_score    gender       age    tenure   balance  \\\n",
              "credit_score          1.000000 -0.002857 -0.003965  0.000842  0.006268   \n",
              "gender               -0.002857  1.000000 -0.027544  0.014733  0.012087   \n",
              "age                  -0.003965 -0.027544  1.000000 -0.009997  0.028308   \n",
              "tenure                0.000842  0.014733 -0.009997  1.000000 -0.012254   \n",
              "balance               0.006268  0.012087  0.028308 -0.012254  1.000000   \n",
              "products_number       0.012238 -0.021859 -0.030680  0.013444 -0.304180   \n",
              "credit_card          -0.005458  0.005766 -0.011721  0.022583 -0.014858   \n",
              "active_member         0.025651  0.022544  0.085472 -0.028362 -0.010084   \n",
              "estimated_salary     -0.001384 -0.008112 -0.007201  0.007784  0.012797   \n",
              "churn                -0.027094 -0.106512  0.285323 -0.014001  0.118533   \n",
              "France               -0.008928  0.006772 -0.039208 -0.002848 -0.231329   \n",
              "Germany               0.005538 -0.024628  0.046897 -0.000567  0.401110   \n",
              "Spain                 0.004780  0.016889 -0.001685  0.003868 -0.134892   \n",
              "\n",
              "                  products_number  credit_card  active_member  \\\n",
              "credit_score             0.012238    -0.005458       0.025651   \n",
              "gender                  -0.021859     0.005766       0.022544   \n",
              "age                     -0.030680    -0.011721       0.085472   \n",
              "tenure                   0.013444     0.022583      -0.028362   \n",
              "balance                 -0.304180    -0.014858      -0.010084   \n",
              "products_number          1.000000     0.003183       0.009612   \n",
              "credit_card              0.003183     1.000000      -0.011866   \n",
              "active_member            0.009612    -0.011866       1.000000   \n",
              "estimated_salary         0.014204    -0.009933      -0.011421   \n",
              "churn                   -0.047820    -0.007138      -0.156128   \n",
              "France                   0.001230     0.002467       0.003317   \n",
              "Germany                 -0.010419     0.010577      -0.020486   \n",
              "Spain                    0.009039    -0.013480       0.016732   \n",
              "\n",
              "                  estimated_salary     churn    France   Germany     Spain  \n",
              "credit_score             -0.001384 -0.027094 -0.008928  0.005538  0.004780  \n",
              "gender                   -0.008112 -0.106512  0.006772 -0.024628  0.016889  \n",
              "age                      -0.007201  0.285323 -0.039208  0.046897 -0.001685  \n",
              "tenure                    0.007784 -0.014001 -0.002848 -0.000567  0.003868  \n",
              "balance                   0.012797  0.118533 -0.231329  0.401110 -0.134892  \n",
              "products_number           0.014204 -0.047820  0.001230 -0.010419  0.009039  \n",
              "credit_card              -0.009933 -0.007138  0.002467  0.010577 -0.013480  \n",
              "active_member            -0.011421 -0.156128  0.003317 -0.020486  0.016732  \n",
              "estimated_salary          1.000000  0.012097 -0.003332  0.010297 -0.006482  \n",
              "churn                     0.012097  1.000000 -0.104955  0.173488 -0.052667  \n",
              "France                   -0.003332 -0.104955  1.000000 -0.580359 -0.575418  \n",
              "Germany                   0.010297  0.173488 -0.580359  1.000000 -0.332084  \n",
              "Spain                    -0.006482 -0.052667 -0.575418 -0.332084  1.000000  "
            ]
          },
          "execution_count": 9,
          "metadata": {},
          "output_type": "execute_result"
        }
      ],
      "source": [
        "df_encoded.corr()"
      ]
    },
    {
      "cell_type": "code",
      "execution_count": null,
      "id": "013dd837-bbb7-495d-808e-88c6ab427064",
      "metadata": {
        "id": "013dd837-bbb7-495d-808e-88c6ab427064",
        "outputId": "3fc843db-974b-4169-e972-705f7ac0342b"
      },
      "outputs": [
        {
          "data": {
            "text/html": [
              "<div>\n",
              "<style scoped>\n",
              "    .dataframe tbody tr th:only-of-type {\n",
              "        vertical-align: middle;\n",
              "    }\n",
              "\n",
              "    .dataframe tbody tr th {\n",
              "        vertical-align: top;\n",
              "    }\n",
              "\n",
              "    .dataframe thead th {\n",
              "        text-align: right;\n",
              "    }\n",
              "</style>\n",
              "<table border=\"1\" class=\"dataframe\">\n",
              "  <thead>\n",
              "    <tr style=\"text-align: right;\">\n",
              "      <th></th>\n",
              "      <th>credit_score</th>\n",
              "      <th>gender</th>\n",
              "      <th>age</th>\n",
              "      <th>tenure</th>\n",
              "      <th>balance</th>\n",
              "      <th>products_number</th>\n",
              "      <th>credit_card</th>\n",
              "      <th>active_member</th>\n",
              "      <th>estimated_salary</th>\n",
              "      <th>France</th>\n",
              "      <th>Germany</th>\n",
              "      <th>Spain</th>\n",
              "      <th>churn</th>\n",
              "    </tr>\n",
              "  </thead>\n",
              "  <tbody>\n",
              "    <tr>\n",
              "      <th>0</th>\n",
              "      <td>619</td>\n",
              "      <td>0</td>\n",
              "      <td>42</td>\n",
              "      <td>2</td>\n",
              "      <td>0.00</td>\n",
              "      <td>1</td>\n",
              "      <td>1</td>\n",
              "      <td>1</td>\n",
              "      <td>101348.88</td>\n",
              "      <td>1</td>\n",
              "      <td>0</td>\n",
              "      <td>0</td>\n",
              "      <td>1</td>\n",
              "    </tr>\n",
              "    <tr>\n",
              "      <th>1</th>\n",
              "      <td>608</td>\n",
              "      <td>0</td>\n",
              "      <td>41</td>\n",
              "      <td>1</td>\n",
              "      <td>83807.86</td>\n",
              "      <td>1</td>\n",
              "      <td>0</td>\n",
              "      <td>1</td>\n",
              "      <td>112542.58</td>\n",
              "      <td>0</td>\n",
              "      <td>0</td>\n",
              "      <td>1</td>\n",
              "      <td>0</td>\n",
              "    </tr>\n",
              "    <tr>\n",
              "      <th>2</th>\n",
              "      <td>502</td>\n",
              "      <td>0</td>\n",
              "      <td>42</td>\n",
              "      <td>8</td>\n",
              "      <td>159660.80</td>\n",
              "      <td>3</td>\n",
              "      <td>1</td>\n",
              "      <td>0</td>\n",
              "      <td>113931.57</td>\n",
              "      <td>1</td>\n",
              "      <td>0</td>\n",
              "      <td>0</td>\n",
              "      <td>1</td>\n",
              "    </tr>\n",
              "    <tr>\n",
              "      <th>3</th>\n",
              "      <td>699</td>\n",
              "      <td>0</td>\n",
              "      <td>39</td>\n",
              "      <td>1</td>\n",
              "      <td>0.00</td>\n",
              "      <td>2</td>\n",
              "      <td>0</td>\n",
              "      <td>0</td>\n",
              "      <td>93826.63</td>\n",
              "      <td>1</td>\n",
              "      <td>0</td>\n",
              "      <td>0</td>\n",
              "      <td>0</td>\n",
              "    </tr>\n",
              "    <tr>\n",
              "      <th>4</th>\n",
              "      <td>850</td>\n",
              "      <td>0</td>\n",
              "      <td>43</td>\n",
              "      <td>2</td>\n",
              "      <td>125510.82</td>\n",
              "      <td>1</td>\n",
              "      <td>1</td>\n",
              "      <td>1</td>\n",
              "      <td>79084.10</td>\n",
              "      <td>0</td>\n",
              "      <td>0</td>\n",
              "      <td>1</td>\n",
              "      <td>0</td>\n",
              "    </tr>\n",
              "  </tbody>\n",
              "</table>\n",
              "</div>"
            ],
            "text/plain": [
              "   credit_score  gender  age  tenure    balance  products_number  credit_card  \\\n",
              "0           619       0   42       2       0.00                1            1   \n",
              "1           608       0   41       1   83807.86                1            0   \n",
              "2           502       0   42       8  159660.80                3            1   \n",
              "3           699       0   39       1       0.00                2            0   \n",
              "4           850       0   43       2  125510.82                1            1   \n",
              "\n",
              "   active_member  estimated_salary  France  Germany  Spain  churn  \n",
              "0              1         101348.88       1        0      0      1  \n",
              "1              1         112542.58       0        0      1      0  \n",
              "2              0         113931.57       1        0      0      1  \n",
              "3              0          93826.63       1        0      0      0  \n",
              "4              1          79084.10       0        0      1      0  "
            ]
          },
          "execution_count": 10,
          "metadata": {},
          "output_type": "execute_result"
        }
      ],
      "source": [
        "# move the target variable (churn) to last column\n",
        "cols = list(df_encoded.columns.values)\n",
        "cols.pop(cols.index('churn'))\n",
        "df_rearranged = df_encoded[cols+['churn']]\n",
        "df_rearranged.head()"
      ]
    },
    {
      "cell_type": "markdown",
      "id": "82bc7e7a-b568-4f11-b3ca-0bdc55bf010a",
      "metadata": {
        "id": "82bc7e7a-b568-4f11-b3ca-0bdc55bf010a"
      },
      "source": [
        "## EXPLORE THE EFFECT OF FEATURES ON THE TARGET VARIABLE (churn)"
      ]
    },
    {
      "cell_type": "code",
      "execution_count": null,
      "id": "bb0e077e-9d30-4695-b290-9e0b0fde34f9",
      "metadata": {
        "id": "bb0e077e-9d30-4695-b290-9e0b0fde34f9",
        "outputId": "9980cd1b-8b39-4480-fbb1-3db51f63fdfc"
      },
      "outputs": [
        {
          "data": {
            "text/plain": [
              "<AxesSubplot:>"
            ]
          },
          "execution_count": 11,
          "metadata": {},
          "output_type": "execute_result"
        },
        {
          "data": {
            "image/png": "[encoded data removed]",
            "text/plain": [
              "<Figure size 1080x1080 with 2 Axes>"
            ]
          },
          "metadata": {
            "needs_background": "light"
          },
          "output_type": "display_data"
        }
      ],
      "source": [
        "# get heatmap for each features\n",
        "corrmat = df_rearranged.corr()\n",
        "corr_features = corrmat.index\n",
        "plt.figure(figsize=(15,15))\n",
        "sns.heatmap(df_rearranged[corr_features].corr(), annot=True, cmap='RdYlGn')"
      ]
    },
    {
      "cell_type": "markdown",
      "id": "30ed1ca3-35d5-448c-b036-3aaf21a3e830",
      "metadata": {
        "id": "30ed1ca3-35d5-448c-b036-3aaf21a3e830"
      },
      "source": [
        "**Note**: So from heat map we see that the features that has highest impact on the target variable are:\n",
        "\n",
        "1. age\n",
        "2. Germany\n",
        "3. active_member\n",
        "4. balance\n",
        "5. gender\n",
        "6. France\n",
        "7. Spain\n"
      ]
    },
    {
      "cell_type": "code",
      "execution_count": null,
      "id": "808fa74c-8dfe-49ac-8334-b013fa646931",
      "metadata": {
        "id": "808fa74c-8dfe-49ac-8334-b013fa646931",
        "outputId": "6be20513-f79a-45df-c03c-1bbcbb14b5a3"
      },
      "outputs": [
        {
          "data": {
            "image/png": "[encoded data removed]",
            "text/plain": [
              "<Figure size 432x288 with 1 Axes>"
            ]
          },
          "metadata": {
            "needs_background": "light"
          },
          "output_type": "display_data"
        }
      ],
      "source": [
        "X = df_rearranged.iloc[:, :-1]\n",
        "y = df_rearranged.iloc[:, -1]\n",
        "\n",
        "importances = mutual_info_classif(X,y)\n",
        "feat_importances = pd.Series(importances, df_rearranged.columns[:-1])\n",
        "feat_importances.plot(kind='barh', color='teal')\n",
        "plt.show()"
      ]
    },
    {
      "cell_type": "markdown",
      "id": "acb523c3-0a7d-45af-b086-5c336183ae58",
      "metadata": {
        "id": "acb523c3-0a7d-45af-b086-5c336183ae58"
      },
      "source": [
        "**Note:** So from mututal information plot, we can see the features that has highest impact on the target variable:\n",
        "\n",
        "1. age\n",
        "2. products_number\n",
        "3. Germany\n",
        "4. active_member\n",
        "5. balance\n",
        "6. France\n",
        "7. gender\n",
        "\n",
        "\n"
      ]
    },
    {
      "cell_type": "markdown",
      "id": "62dc62ef-2925-4abe-acd6-e5fe891ded06",
      "metadata": {
        "id": "62dc62ef-2925-4abe-acd6-e5fe891ded06"
      },
      "source": [
        "## TEST THE PERFORMANCE OF EACH CLASSIFIER ON THE DATASET"
      ]
    },
    {
      "cell_type": "code",
      "execution_count": null,
      "id": "24294046-0e6f-462a-8673-f29c4f5406aa",
      "metadata": {
        "id": "24294046-0e6f-462a-8673-f29c4f5406aa"
      },
      "outputs": [],
      "source": [
        "from sklearn.model_selection import RepeatedStratifiedKFold, cross_val_score\n",
        "from sklearn.linear_model import LogisticRegression, SGDClassifier\n",
        "from sklearn.ensemble import RandomForestClassifier\n",
        "from sklearn.svm import SVC\n",
        "from sklearn.tree import DecisionTreeClassifier\n",
        "\n",
        "models = [LogisticRegression(), DecisionTreeClassifier(), RandomForestClassifier(), SGDClassifier(), SVC()]\n",
        "models_string = ['LogisticRegression', 'DecisionTreeClassifier', 'RandomForestClassifier', 'SGDClassifier', 'SVC',]\n",
        "\n",
        "\n",
        "LR_accuracies = []\n",
        "DT_accuracies = []\n",
        "RF_accuracies = []\n",
        "SGD_accuracies = []\n",
        "SVC_accuracies = []\n",
        "\n",
        "def append_accuracy(model_string, scores):        \n",
        "    match model_string:\n",
        "        case 'LogisticRegression':\n",
        "            LR_accuracies.append(round(np.mean(scores), 6))\n",
        "        case 'DecisionTreeClassifier':\n",
        "            DT_accuracies.append(round(np.mean(scores), 6))\n",
        "        case 'RandomForestClassifier':\n",
        "            RF_accuracies.append(round(np.mean(scores), 6))\n",
        "        case 'SGDClassifier':\n",
        "            SGD_accuracies.append(round(np.mean(scores), 6))\n",
        "        case 'SVC':\n",
        "            SVC_accuracies.append(round(np.mean(scores), 6))\n",
        "\n",
        "    "
      ]
    },
    {
      "cell_type": "code",
      "execution_count": null,
      "id": "05134206-123d-4eee-85cd-08a444c23f58",
      "metadata": {
        "id": "05134206-123d-4eee-85cd-08a444c23f58",
        "outputId": "6dd4f6dd-69b8-4189-fcea-408b05c42164"
      },
      "outputs": [
        {
          "name": "stdout",
          "output_type": "stream",
          "text": [
            "==================Testing initial accuracies =============\n",
            "Model: LogisticRegression >> Accuracy: 0.790433\n",
            "Model: DecisionTreeClassifier >> Accuracy: 0.789733\n",
            "Model: RandomForestClassifier >> Accuracy: 0.8603\n",
            "Model: SGDClassifier >> Accuracy: 0.702333\n",
            "Model: SVC >> Accuracy: 0.7963\n"
          ]
        }
      ],
      "source": [
        "print(\"==================Testing initial accuracies =============\")\n",
        "\n",
        "algo_accuracy = {}\n",
        "\n",
        "for m, m_s in zip(models, models_string):\n",
        "    \n",
        "    cv = RepeatedStratifiedKFold(n_splits=10, n_repeats=3, random_state=25)\n",
        "    scores = cross_val_score(m, X, y, scoring='accuracy', cv=cv, n_jobs=-1)\n",
        "    acc = round(np.mean(scores), 6)\n",
        "    \n",
        "    print(f\"Model: {m_s} >> Accuracy: {acc}\")\n",
        "    \n",
        "    append_accuracy(m_s, scores)\n",
        "    algo_accuracy[m_s] = acc\n",
        "    "
      ]
    },
    {
      "cell_type": "code",
      "execution_count": null,
      "id": "0eedb620-0f49-41ae-a7aa-9f306393fdd3",
      "metadata": {
        "id": "0eedb620-0f49-41ae-a7aa-9f306393fdd3",
        "outputId": "52cb1c56-3d47-44fd-f8c4-07059ee13f6b"
      },
      "outputs": [
        {
          "data": {
            "image/png": "[encoded data removed]",
            "text/plain": [
              "<Figure size 504x504 with 1 Axes>"
            ]
          },
          "metadata": {
            "needs_background": "light"
          },
          "output_type": "display_data"
        }
      ],
      "source": [
        "# plot the result\n",
        "clsf = list(algo_accuracy.keys())\n",
        "result = list(algo_accuracy.values())\n",
        "  \n",
        "fig = plt.figure(figsize = (7, 7))\n",
        "\n",
        "plt.bar(clsf, result, color ='blue', width = 0.4)\n",
        "plt.xticks(range(len(clsf)), clsf, rotation=45)\n",
        " \n",
        "plt.xlabel(\"Classifiers\")\n",
        "plt.ylabel(\"Accuracy\")\n",
        "plt.title(\"Initial Accuracies\")\n",
        "plt.show()"
      ]
    },
    {
      "cell_type": "markdown",
      "id": "8b771403-640f-43f9-b562-94a14f68242e",
      "metadata": {
        "id": "8b771403-640f-43f9-b562-94a14f68242e"
      },
      "source": [
        "**Remark:**  \n",
        "We can see that RandomForestClassifier has the highest accuracy while SGDClassifier has the lowest"
      ]
    },
    {
      "cell_type": "markdown",
      "id": "8aa96a92-0d7f-4f29-94b7-2e1a6912d38c",
      "metadata": {
        "id": "8aa96a92-0d7f-4f29-94b7-2e1a6912d38c"
      },
      "source": [
        "## TEST THE PERFORMANCES AFTER SCALING THE DATA"
      ]
    },
    {
      "cell_type": "code",
      "execution_count": null,
      "id": "226bd0fc-9c35-4296-a38c-3e8576205427",
      "metadata": {
        "id": "226bd0fc-9c35-4296-a38c-3e8576205427",
        "outputId": "f7451813-b35d-40af-d8eb-a66bf0510e0c"
      },
      "outputs": [
        {
          "data": {
            "text/plain": [
              "array([[0.538     , 0.        , 0.32432432, ..., 1.        , 0.        ,\n",
              "        0.        ],\n",
              "       [0.516     , 0.        , 0.31081081, ..., 0.        , 0.        ,\n",
              "        1.        ],\n",
              "       [0.304     , 0.        , 0.32432432, ..., 1.        , 0.        ,\n",
              "        0.        ],\n",
              "       ...,\n",
              "       [0.718     , 0.        , 0.24324324, ..., 1.        , 0.        ,\n",
              "        0.        ],\n",
              "       [0.844     , 1.        , 0.32432432, ..., 0.        , 1.        ,\n",
              "        0.        ],\n",
              "       [0.884     , 0.        , 0.13513514, ..., 1.        , 0.        ,\n",
              "        0.        ]])"
            ]
          },
          "execution_count": 16,
          "metadata": {},
          "output_type": "execute_result"
        }
      ],
      "source": [
        "from sklearn.preprocessing import MinMaxScaler\n",
        "\n",
        "scaler=MinMaxScaler().fit(X)\n",
        "X_scaled=scaler.transform(X)\n",
        "X_scaled\n"
      ]
    },
    {
      "cell_type": "code",
      "execution_count": null,
      "id": "529ec122-3a41-49e5-9722-eddaab7510f2",
      "metadata": {
        "id": "529ec122-3a41-49e5-9722-eddaab7510f2",
        "outputId": "c172c40e-b260-4648-c161-917753365051"
      },
      "outputs": [
        {
          "name": "stdout",
          "output_type": "stream",
          "text": [
            "==================Testing with scaled features =============\n",
            "Model: LogisticRegression >> Accuracy: 0.810833\n",
            "Model: DecisionTreeClassifier >> Accuracy: 0.788867\n",
            "Model: RandomForestClassifier >> Accuracy: 0.861833\n",
            "Model: SGDClassifier >> Accuracy: 0.796333\n",
            "Model: SVC >> Accuracy: 0.8393\n"
          ]
        }
      ],
      "source": [
        "print(\"==================Testing with scaled features =============\")\n",
        "\n",
        "algo_accuracy = {}\n",
        "\n",
        "for m, m_s in zip(models, models_string):\n",
        "    \n",
        "    cv = RepeatedStratifiedKFold(n_splits=10, n_repeats=3, random_state=25)\n",
        "    scores = cross_val_score(m, X_scaled, y, scoring='accuracy', cv=cv, n_jobs=-1)\n",
        "    \n",
        "    acc = round(np.mean(scores), 6)    \n",
        "    print(f\"Model: {m_s} >> Accuracy: {acc}\")\n",
        "    \n",
        "    append_accuracy(m_s, scores)\n",
        "    algo_accuracy[m_s] = acc"
      ]
    },
    {
      "cell_type": "code",
      "execution_count": null,
      "id": "d7e8b4ca-1ad4-41e3-b0ea-245b311c07fc",
      "metadata": {
        "id": "d7e8b4ca-1ad4-41e3-b0ea-245b311c07fc",
        "outputId": "91e1382a-63b8-4f93-b93e-fbd354b81b16"
      },
      "outputs": [
        {
          "data": {
            "image/png": "[encoded data removed]",
            "text/plain": [
              "<Figure size 504x504 with 1 Axes>"
            ]
          },
          "metadata": {
            "needs_background": "light"
          },
          "output_type": "display_data"
        }
      ],
      "source": [
        "# plot the result\n",
        "clsf = list(algo_accuracy.keys())\n",
        "result = list(algo_accuracy.values())\n",
        "  \n",
        "fig = plt.figure(figsize = (7, 7))\n",
        "\n",
        "plt.bar(clsf, result, color ='orange', width = 0.4)\n",
        "plt.xticks(range(len(clsf)), clsf, rotation=45)\n",
        " \n",
        "plt.xlabel(\"Classifiers\")\n",
        "plt.ylabel(\"Accuracy\")\n",
        "plt.title(\"Accuracies after scaling\")\n",
        "plt.show()"
      ]
    },
    {
      "cell_type": "markdown",
      "id": "dd4107a7-1abf-4dbf-a3cc-d6624adae289",
      "metadata": {
        "id": "dd4107a7-1abf-4dbf-a3cc-d6624adae289"
      },
      "source": [
        "**Remark:**  \n",
        "We can see that scaling the data increases accuracy"
      ]
    },
    {
      "cell_type": "markdown",
      "id": "1ffe2599-9d1c-4b86-8493-a064f8263808",
      "metadata": {
        "id": "1ffe2599-9d1c-4b86-8493-a064f8263808"
      },
      "source": [
        "## TEST THE PERFORMANCES AFTER STANDARDIZATION OF THE DATA"
      ]
    },
    {
      "cell_type": "code",
      "execution_count": null,
      "id": "df261069-b1f4-48c5-b21b-dfedc498d04e",
      "metadata": {
        "id": "df261069-b1f4-48c5-b21b-dfedc498d04e",
        "outputId": "75f7453b-829a-4b01-9c4b-4705a0e1622a"
      },
      "outputs": [
        {
          "data": {
            "text/plain": [
              "array([[-0.32622142, -1.09598752,  0.29351742, ...,  0.99720391,\n",
              "        -0.57873591, -0.57380915],\n",
              "       [-0.44003595, -1.09598752,  0.19816383, ..., -1.00280393,\n",
              "        -0.57873591,  1.74273971],\n",
              "       [-1.53679418, -1.09598752,  0.29351742, ...,  0.99720391,\n",
              "        -0.57873591, -0.57380915],\n",
              "       ...,\n",
              "       [ 0.60498839, -1.09598752, -0.27860412, ...,  0.99720391,\n",
              "        -0.57873591, -0.57380915],\n",
              "       [ 1.25683526,  0.91241915,  0.29351742, ..., -1.00280393,\n",
              "         1.72790383, -0.57380915],\n",
              "       [ 1.46377078, -1.09598752, -1.04143285, ...,  0.99720391,\n",
              "        -0.57873591, -0.57380915]])"
            ]
          },
          "execution_count": 19,
          "metadata": {},
          "output_type": "execute_result"
        }
      ],
      "source": [
        "from sklearn.preprocessing import StandardScaler\n",
        "\n",
        "scaler = StandardScaler().fit(X_scaled)\n",
        "X_standard = scaler.transform(X_scaled)\n",
        "X_standard\n"
      ]
    },
    {
      "cell_type": "code",
      "execution_count": null,
      "id": "e1de463d-e9ad-4ded-ab8e-2a85232e6f8a",
      "metadata": {
        "id": "e1de463d-e9ad-4ded-ab8e-2a85232e6f8a",
        "outputId": "c7e2d0d5-b049-46a3-94d7-4b717d7c7e2a"
      },
      "outputs": [
        {
          "name": "stdout",
          "output_type": "stream",
          "text": [
            "==================Testing with Standardized features =============\n",
            "Model: LogisticRegression >> Accuracy: 0.809833\n",
            "Model: DecisionTreeClassifier >> Accuracy: 0.789267\n",
            "Model: RandomForestClassifier >> Accuracy: 0.860967\n",
            "Model: SGDClassifier >> Accuracy: 0.799467\n",
            "Model: SVC >> Accuracy: 0.8557\n"
          ]
        }
      ],
      "source": [
        "print(\"==================Testing with Standardized features =============\")\n",
        "\n",
        "algo_accuracy = {}\n",
        "\n",
        "for m, m_s in zip(models, models_string):\n",
        "    \n",
        "    cv = RepeatedStratifiedKFold(n_splits=10, n_repeats=3, random_state=25)\n",
        "    scores = cross_val_score(m, X_standard, y, scoring='accuracy', cv=cv, n_jobs=-1)\n",
        "            \n",
        "    acc = round(np.mean(scores), 6)    \n",
        "    print(f\"Model: {m_s} >> Accuracy: {acc}\")\n",
        "    \n",
        "    append_accuracy(m_s, scores)\n",
        "    algo_accuracy[m_s] = acc"
      ]
    },
    {
      "cell_type": "code",
      "execution_count": null,
      "id": "c0cbd842-8da7-4ba6-b653-5261b568e080",
      "metadata": {
        "id": "c0cbd842-8da7-4ba6-b653-5261b568e080",
        "outputId": "2560433b-54ab-4443-c5d2-b1238f3c2449"
      },
      "outputs": [
        {
          "data": {
            "image/png": "[encoded data removed]",
            "text/plain": [
              "<Figure size 504x504 with 1 Axes>"
            ]
          },
          "metadata": {
            "needs_background": "light"
          },
          "output_type": "display_data"
        }
      ],
      "source": [
        "# plot the result\n",
        "clsf = list(algo_accuracy.keys())\n",
        "result = list(algo_accuracy.values())\n",
        "  \n",
        "fig = plt.figure(figsize = (7, 7))\n",
        "\n",
        "plt.bar(clsf, result, color ='green', width = 0.4)\n",
        "plt.xticks(range(len(clsf)), clsf, rotation=45)\n",
        " \n",
        "plt.xlabel(\"Classifiers\")\n",
        "plt.ylabel(\"Accuracy\")\n",
        "plt.title(\"Accuracies after standardization\")\n",
        "plt.show()"
      ]
    },
    {
      "cell_type": "markdown",
      "id": "085e8c4f-3e02-4c9c-9f88-8be8fe1deea1",
      "metadata": {
        "id": "085e8c4f-3e02-4c9c-9f88-8be8fe1deea1"
      },
      "source": [
        "**Remark:**  \n",
        "We can see that Standardizing the data didn't have remarkable impact on the accuracies."
      ]
    },
    {
      "cell_type": "markdown",
      "id": "e74b73b8-725f-44de-910c-6b034c8e7320",
      "metadata": {
        "id": "e74b73b8-725f-44de-910c-6b034c8e7320"
      },
      "source": [
        "## TEST WITH GridSearchCV TO FIND THE BEST PERFORMING HYPERPARAMETER COMBINATIONS"
      ]
    },
    {
      "cell_type": "code",
      "execution_count": null,
      "id": "c97da895-5568-4941-ac5d-36321bea9077",
      "metadata": {
        "id": "c97da895-5568-4941-ac5d-36321bea9077",
        "outputId": "7382331c-14b1-41fd-d3dc-62bd085f59cf"
      },
      "outputs": [
        {
          "name": "stdout",
          "output_type": "stream",
          "text": [
            "================== Tuning for hyperparameters of the models =============\n",
            "{'C': 0.1, 'penalty': 'l1', 'solver': 'liblinear'}\n",
            "Model: LogisticRegression >> Accuracy: 0.812167\n",
            "\n",
            "\n",
            "{'criterion': 'gini', 'min_samples_split': 5, 'splitter': 'random'}\n",
            "Model: DecisionTreeClassifier >> Accuracy: 0.812867\n",
            "\n",
            "\n",
            "{'bootstrap': False, 'criterion': 'gini', 'max_depth': 10, 'max_features': 'sqrt', 'min_samples_leaf': 1, 'n_estimators': 100}\n",
            "Model: RandomForestClassifier >> Accuracy: 0.864533\n",
            "\n",
            "\n",
            "{'alpha': 0.001, 'loss': 'log', 'penalty': 'l2'}\n",
            "Model: SGDClassifier >> Accuracy: 0.810433\n",
            "\n",
            "\n",
            "{'C': 100, 'gamma': 1, 'kernel': 'poly'}\n",
            "Model: SVC >> Accuracy: 0.861167\n",
            "\n",
            "\n"
          ]
        }
      ],
      "source": [
        "from sklearn.model_selection import GridSearchCV\n",
        "\n",
        "import warnings\n",
        "warnings.filterwarnings('ignore')\n",
        "\n",
        "\n",
        "models = [LogisticRegression, DecisionTreeClassifier, RandomForestClassifier, SGDClassifier, SVC]\n",
        "models_string = ['LogisticRegression', 'DecisionTreeClassifier', 'RandomForestClassifier', 'SGDClassifier', 'SVC',]\n",
        "models_hyper_params = [{'penalty': ['l1', 'l2', 'elasticnet', 'none'], 'C': [0.1,1, 10, 100, 1000], 'solver':['newton-cg', 'lbfgs', 'liblinear', 'sag', 'saga']},\n",
        "                       {\"criterion\": ['gini', 'entropy'], 'splitter': [\"random\",\"best\"], 'min_samples_split':[2,5]},\n",
        "                       {\"n_estimators\": [10,50,100], \"criterion\": ['gini', 'entropy'],\"max_features\": [\"auto\",\"sqrt\"], 'bootstrap' : [True, False],'min_samples_leaf' : [1, 2, 4],'max_depth':[2,5,10,15]},\n",
        "                       {'loss': ['hinge', 'log', 'modified_huber'],'alpha': [0.0001,0.001,0.01],'penalty':[\"l2\",\"l1\"]},\n",
        "                       {'C': [0.1, 1, 10, 100], 'gamma': [0.01, 0.1, 1], 'kernel': ['linear', 'poly', 'rbf']}]\n",
        "\n",
        "print(\"================== Tuning for hyperparameters of the models =============\")\n",
        "\n",
        "for m, m_s, m_hp in zip(models, models_string, models_hyper_params):\n",
        "    # find best param values for each model and check accuracies\n",
        "    gs = GridSearchCV(m(),m_hp)\n",
        "    gs.fit(X_scaled, y)\n",
        "    m_best_params = gs.best_params_\n",
        "\n",
        "    print(m_best_params)\n",
        "    # initialize the classifiers with best parameters\n",
        "    m_init = m(**m_best_params)\n",
        "    \n",
        "    cv = RepeatedStratifiedKFold(n_splits=10, n_repeats=3, random_state=25)\n",
        "    scores = cross_val_score(m_init, X_scaled, y, scoring='accuracy', cv=cv, n_jobs=-1)\n",
        "    \n",
        "    print(f\"Model: {m_s} >> Accuracy: {round(np.mean(scores), 6)}\")\n",
        "    print(\"\\n\")\n",
        "    \n",
        "    append_accuracy(m_s, scores)\n",
        "\n"
      ]
    },
    {
      "cell_type": "markdown",
      "id": "21306699-9af9-4cd2-a875-f49d92d0d527",
      "metadata": {
        "id": "21306699-9af9-4cd2-a875-f49d92d0d527"
      },
      "source": [
        "## TEST THE PERFORMANCE AFTER DROPPING COLUMNS"
      ]
    },
    {
      "cell_type": "markdown",
      "id": "7b41313f-45b1-442e-9cde-d082d8b07f69",
      "metadata": {
        "id": "7b41313f-45b1-442e-9cde-d082d8b07f69"
      },
      "source": [
        "**We have seen earlier that credit_card, estimated_salary, tenure & credit_score have weak relation to the target variable. So we are going to drop these features and test the impact.**"
      ]
    },
    {
      "cell_type": "code",
      "execution_count": null,
      "id": "e43d6347-b6c6-433b-ac5f-01eb868be657",
      "metadata": {
        "id": "e43d6347-b6c6-433b-ac5f-01eb868be657"
      },
      "outputs": [],
      "source": [
        "df_selected = df_rearranged.drop(['credit_card', 'estimated_salary', 'tenure', 'credit_score'], axis=1)\n",
        "X_selected = df_selected.iloc[:, :-1]\n",
        "y = df_selected.iloc[:, -1]"
      ]
    },
    {
      "cell_type": "code",
      "execution_count": null,
      "id": "7cf30189-607d-460d-a1e4-f93b50aff0f9",
      "metadata": {
        "id": "7cf30189-607d-460d-a1e4-f93b50aff0f9"
      },
      "outputs": [],
      "source": [
        "scaler=MinMaxScaler().fit(X_selected)\n",
        "X_selected_scaled=scaler.transform(X_selected)"
      ]
    },
    {
      "cell_type": "code",
      "execution_count": null,
      "id": "acec5c64-440f-4a53-bea1-a41703c5ce84",
      "metadata": {
        "id": "acec5c64-440f-4a53-bea1-a41703c5ce84",
        "outputId": "6ee07c48-d466-42a6-eb39-e68f714fade0"
      },
      "outputs": [
        {
          "name": "stdout",
          "output_type": "stream",
          "text": [
            "================== Testing accuracy after dropping columns =============\n",
            "{'C': 0.1, 'penalty': 'l1', 'solver': 'liblinear'}\n",
            "Model: LogisticRegression >> Accuracy: 0.8118\n",
            "\n",
            "\n",
            "{'criterion': 'entropy', 'min_samples_split': 5, 'splitter': 'random'}\n",
            "Model: DecisionTreeClassifier >> Accuracy: 0.830567\n",
            "\n",
            "\n",
            "{'bootstrap': True, 'criterion': 'entropy', 'max_depth': 10, 'max_features': 'sqrt', 'min_samples_leaf': 4, 'n_estimators': 100}\n",
            "Model: RandomForestClassifier >> Accuracy: 0.862\n",
            "\n",
            "\n",
            "{'alpha': 0.001, 'loss': 'log', 'penalty': 'l1'}\n",
            "Model: SGDClassifier >> Accuracy: 0.8108\n",
            "\n",
            "\n",
            "{'C': 100, 'gamma': 1, 'kernel': 'poly'}\n",
            "Model: SVC >> Accuracy: 0.8593\n",
            "\n",
            "\n"
          ]
        }
      ],
      "source": [
        "print(\"================== Testing accuracy after dropping columns =============\")\n",
        "\n",
        "for m, m_s, m_hp in zip(models, models_string, models_hyper_params):\n",
        "    # find best param values for each model and check accuracies\n",
        "    gs = GridSearchCV(m(),m_hp)\n",
        "    gs.fit(X_selected_scaled, y)\n",
        "    m_best_params = gs.best_params_\n",
        "\n",
        "    print(m_best_params)\n",
        "    # initialize the classifiers with best parameters\n",
        "    m_init = m(**m_best_params)\n",
        "    \n",
        "    cv = RepeatedStratifiedKFold(n_splits=10, n_repeats=3, random_state=25)\n",
        "    scores = cross_val_score(m_init, X_selected_scaled, y, scoring='accuracy', cv=cv, n_jobs=-1)\n",
        "    \n",
        "    print(f\"Model: {m_s} >> Accuracy: {round(np.mean(scores), 6)}\")\n",
        "    print(\"\\n\")\n",
        "    \n",
        "    append_accuracy(m_s, scores)"
      ]
    },
    {
      "cell_type": "code",
      "execution_count": null,
      "id": "3f3e7ae3-ec82-4ebb-b548-cdfcef6b669c",
      "metadata": {
        "id": "3f3e7ae3-ec82-4ebb-b548-cdfcef6b669c",
        "outputId": "63430fa8-8c9c-40b4-e551-c64d5f558e17"
      },
      "outputs": [
        {
          "name": "stdout",
          "output_type": "stream",
          "text": [
            "LR_accuracies =  [0.790433, 0.810833, 0.809833, 0.812167, 0.8118]\n",
            "DT_accuracies =  [0.789733, 0.788867, 0.789267, 0.812867, 0.830567]\n",
            "RF_accuracies =  [0.8603, 0.861833, 0.860967, 0.864533, 0.862]\n",
            "SGD_accuracies =  [0.702333, 0.796333, 0.799467, 0.810433, 0.8108]\n",
            "SVC_accuracies =  [0.7963, 0.8393, 0.8557, 0.861167, 0.8593]\n"
          ]
        }
      ],
      "source": [
        "print(\"LR_accuracies = \", LR_accuracies)\n",
        "print(\"DT_accuracies = \", DT_accuracies)\n",
        "print(\"RF_accuracies = \", RF_accuracies)\n",
        "print(\"SGD_accuracies = \", SGD_accuracies)\n",
        "print(\"SVC_accuracies = \", SVC_accuracies)\n"
      ]
    },
    {
      "cell_type": "markdown",
      "id": "290dc5c8-0f46-416b-b943-5e69986315f5",
      "metadata": {
        "id": "290dc5c8-0f46-416b-b943-5e69986315f5"
      },
      "source": [
        "## COMPARE THE ACCURACIES OBTAINED IN EACH STEP FOR ALL THE CLASSIFIERS"
      ]
    },
    {
      "cell_type": "code",
      "execution_count": null,
      "id": "e89feeea-853d-46b6-9a69-4db87547a515",
      "metadata": {
        "id": "e89feeea-853d-46b6-9a69-4db87547a515",
        "outputId": "c027573d-d2e5-4aaa-ba3f-f5161d79b795"
      },
      "outputs": [
        {
          "data": {
            "image/png": "[encoded data removed]",
            "text/plain": [
              "<Figure size 1080x504 with 1 Axes>"
            ]
          },
          "metadata": {
            "needs_background": "light"
          },
          "output_type": "display_data"
        }
      ],
      "source": [
        "# Now we will plot the accuracies obtained in each step\n",
        "\n",
        "labels = ['LogisticRegression', 'DecisionTreeClassifier', 'RandomForestClassifier', 'SGDClassifier', 'SVC']\n",
        "\n",
        "STEPS =  []\n",
        "\n",
        "for lr,dt,rf,sgd,svc in zip(LR_accuracies,DT_accuracies, RF_accuracies, SGD_accuracies, SVC_accuracies):\n",
        "    STEPS.append(np.round([lr,dt,rf,sgd,svc], 2))\n",
        "\n",
        "step_initial = STEPS[0]\n",
        "step_scaled = STEPS[1]\n",
        "step_stand = STEPS[2]\n",
        "step_gridsearch = STEPS[3]\n",
        "step_drop_column = STEPS[4]\n",
        "\n",
        "\n",
        "index = np.arange(len(labels))  # the label locations\n",
        "width = 0.15  # the width of the bars\n",
        "\n",
        "fig, ax = plt.subplots(figsize=(15, 7))\n",
        "\n",
        "rects1 = ax.bar(index, step_initial, width, label='Initial', color='turquoise')\n",
        "rects2 = ax.bar(index + width, step_scaled, width, label='After Scaling', color='plum')\n",
        "rects3 = ax.bar(index + width*2, step_stand, width, label='After Standardization', color='orange')\n",
        "rects4 = ax.bar(index + width*3, step_gridsearch, width, label='After GridSearchCV', color='navy')\n",
        "rects5 = ax.bar(index + width*4, step_drop_column, width, label='After Dropping Features', color='yellowgreen')\n",
        "\n",
        "\n",
        "ax.set_title('Accuracy of algorithms in each step')\n",
        "ax.set_xticks(index, labels)\n",
        "ax.set_ylabel('Accuracy')\n",
        "ax.set_yticks(np.arange(0, 1.2, 0.1))\n",
        "ax.legend()\n",
        "\n",
        "ax.bar_label(rects1, padding=2)\n",
        "ax.bar_label(rects2, padding=2)\n",
        "ax.bar_label(rects3, padding=2)\n",
        "ax.bar_label(rects4, padding=2)\n",
        "ax.bar_label(rects5, padding=2)\n",
        "\n",
        "fig.tight_layout()\n",
        "\n",
        "plt.show()"
      ]
    },
    {
      "cell_type": "markdown",
      "id": "ead9afca-7ce0-4314-881d-82633997b041",
      "metadata": {
        "id": "ead9afca-7ce0-4314-881d-82633997b041"
      },
      "source": [
        "**Findings:**  \n",
        "- We can see that the best performing classifiers are **Random Forest(0.86)** and **SVC(0.86)**\n",
        "\n",
        "- During the **GridSearchCV stage**  we found that there was 2.53% and 1.25% increase in accuracy for the **DecisionTreeClassifier** and the **SGDClassifier** respectively. \n",
        "\n",
        "- For **DecisionTreeClassifier** the best hyperparameter values were -   \n",
        "'criterion': 'gini', 'min_samples_split': 5, 'splitter': 'random'\n",
        "\n",
        "- For **SGDClassifier** the best hyperparameter values were -   \n",
        "'alpha': 0.001, 'loss': 'log', 'penalty': 'l2'\n",
        "\n",
        "- After data processing and hyperparameter tuning the highest increase is found for **SGDClassifier**, where initial accuracy was **0.7** but in the final step it went up to **0.81**\n",
        "\n",
        "- Dropping features didn't have significant impact on the accuracy for most classifiers except **DecisionTreeClassifier**, for which the value increased from **0.81** to **0.83**\n",
        "\n"
      ]
    },
    {
      "cell_type": "code",
      "execution_count": null,
      "id": "fd6eef9d-fc93-445e-b3c9-082516549b40",
      "metadata": {
        "id": "fd6eef9d-fc93-445e-b3c9-082516549b40"
      },
      "outputs": [],
      "source": []
    }
  ],
  "metadata": {
    "kernelspec": {
      "display_name": "Python 3 (ipykernel)",
      "language": "python",
      "name": "python3"
    },
    "language_info": {
      "codemirror_mode": {
        "name": "ipython",
        "version": 3
      },
      "file_extension": ".py",
      "mimetype": "text/x-python",
      "name": "python",
      "nbconvert_exporter": "python",
      "pygments_lexer": "ipython3",
      "version": "3.10.5"
    },
    "colab": {
      "provenance": []
    }
  },
  "nbformat": 4,
  "nbformat_minor": 5
}